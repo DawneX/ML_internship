{
 "cells": [
  {
   "cell_type": "code",
   "execution_count": 1,
   "id": "567175da",
   "metadata": {},
   "outputs": [],
   "source": [
    "##[1]WAP that takes a string as input and counts the occurence of a particular sub string"
   ]
  },
  {
   "cell_type": "code",
   "execution_count": 2,
   "id": "b3408f8f",
   "metadata": {},
   "outputs": [
    {
     "name": "stdout",
     "output_type": "stream",
     "text": [
      "Enter a string : hello friends\n",
      "Enter the substring : e\n",
      "The occurence of the substring(sub_string) :  2\n"
     ]
    }
   ],
   "source": [
    "string = input(\"Enter a string : \")\n",
    "sub_string = input(\"Enter the substring : \")\n",
    "count = string.count(sub_string)\n",
    "print(\"The occurence of the substring(sub_string) : \", count )"
   ]
  },
  {
   "cell_type": "code",
   "execution_count": 3,
   "id": "b5b83fd1",
   "metadata": {},
   "outputs": [
    {
     "name": "stdout",
     "output_type": "stream",
     "text": [
      "Enter a string : hello everyone\n",
      "Enter the old word : everyone\n",
      "Enter the new word : friends\n",
      "Modified string: hello friends\n"
     ]
    }
   ],
   "source": [
    "##[2]wap that takes a string as input and replace a word with another word\n",
    "\n",
    "def replace_word(string, old_word, new_word):\n",
    "    # Using the replace() method to replace occurrences\n",
    "    new_string = string.replace(old_word, new_word)\n",
    "    return new_string\n",
    "\n",
    "string = input(\"Enter a string : \")\n",
    "old_word = input(\"Enter the old word : \")\n",
    "new_word = input(\"Enter the new word : \")\n",
    "\n",
    "new_string = replace_word(string, old_word, new_word)\n",
    "print(f\"Modified string: {new_string}\")"
   ]
  },
  {
   "cell_type": "code",
   "execution_count": 5,
   "id": "a615b720",
   "metadata": {},
   "outputs": [
    {
     "name": "stdout",
     "output_type": "stream",
     "text": [
      "Enter a string: welcome friends\n",
      "Reversed string: sdneirf emoclew\n"
     ]
    }
   ],
   "source": [
    "##[3] wap that takes a string as input and reverse it\n",
    "\n",
    "def reverse_string(input_string):  \n",
    "  reversed_string = input_string[::-1]\n",
    "  return reversed_string\n",
    "input_string = input(\"Enter a string: \")\n",
    "reversed_string = reverse_string(input_string)\n",
    "print(\"Reversed string:\", reversed_string)"
   ]
  },
  {
   "cell_type": "code",
   "execution_count": 8,
   "id": "a8fc3274",
   "metadata": {},
   "outputs": [
    {
     "name": "stdout",
     "output_type": "stream",
     "text": [
      "Enter a string : hello world\n",
      "Enter the substring : world\n",
      "The new string after the substring removed is : hello \n"
     ]
    }
   ],
   "source": [
    "##[4] wap that takes a string as input and print the sentence with all occurences removed\n",
    "\n",
    "string = input(\"Enter a string : \")\n",
    "sub_string = input(\"Enter the substring : \")\n",
    "new_string = string.replace(sub_string,\"\")\n",
    "print(\"The new string after the substring removed is :\",new_string)"
   ]
  },
  {
   "cell_type": "code",
   "execution_count": 1,
   "id": "87968d06",
   "metadata": {},
   "outputs": [],
   "source": [
    "##[5] wap that takes a string as input and prints the string with the case of each character swapped"
   ]
  },
  {
   "cell_type": "code",
   "execution_count": 4,
   "id": "893b523c",
   "metadata": {},
   "outputs": [
    {
     "name": "stdout",
     "output_type": "stream",
     "text": [
      "Enter a string: Hello World\n",
      "String with swapped case: hELLO wORLD\n"
     ]
    }
   ],
   "source": [
    "input_string = input(\"Enter a string: \")\n",
    "\n",
    "swapped_string = input_string.swapcase()\n",
    "print(f\"String with swapped case: {swapped_string}\")"
   ]
  },
  {
   "cell_type": "code",
   "execution_count": 5,
   "id": "898ae7b5",
   "metadata": {},
   "outputs": [],
   "source": [
    "##[6] wap to count number of vowels in a given string"
   ]
  },
  {
   "cell_type": "code",
   "execution_count": 6,
   "id": "ef1d92f7",
   "metadata": {},
   "outputs": [
    {
     "name": "stdout",
     "output_type": "stream",
     "text": [
      "Enter a string: I am Iron Man\n",
      "Number of vowels in the string: 5\n"
     ]
    }
   ],
   "source": [
    "def count_vowels(input_string):\n",
    "    vowels = \"aeiouAEIOU\"\n",
    "    vowel_count = 0\n",
    "    \n",
    "    for char in input_string:\n",
    "        if char in vowels:\n",
    "            vowel_count += 1\n",
    "            \n",
    "    return vowel_count\n",
    "\n",
    "# Taking input from the user\n",
    "input_string = input(\"Enter a string: \")\n",
    "\n",
    "# Counting vowels\n",
    "vowel_count = count_vowels(input_string)\n",
    "print(f\"Number of vowels in the string: {vowel_count}\")"
   ]
  },
  {
   "cell_type": "code",
   "execution_count": 7,
   "id": "e286507e",
   "metadata": {},
   "outputs": [],
   "source": [
    "##[7]wap that takes a string as input and prints each word in reverse way"
   ]
  },
  {
   "cell_type": "code",
   "execution_count": 9,
   "id": "caffff6f",
   "metadata": {},
   "outputs": [
    {
     "name": "stdout",
     "output_type": "stream",
     "text": [
      "Enter a string: hello world\n",
      "Each word in reverse: olleh dlrow\n"
     ]
    }
   ],
   "source": [
    "def reverse_words(input_string):\n",
    "    words = input_string.split()\n",
    "    reversed_words = [word[::-1] for word in words]\n",
    "    reversed_string = ' '.join(reversed_words)\n",
    "    return reversed_string\n",
    "\n",
    "# Taking input from the user\n",
    "input_string = input(\"Enter a string: \")\n",
    "\n",
    "# Reversing words\n",
    "reversed_string = reverse_words(input_string)\n",
    "print(f\"Each word in reverse: {reversed_string}\")\n"
   ]
  },
  {
   "cell_type": "code",
   "execution_count": 10,
   "id": "76d50b5c",
   "metadata": {},
   "outputs": [],
   "source": [
    "## wap that takes strig as input and counts number of character in it"
   ]
  },
  {
   "cell_type": "code",
   "execution_count": 13,
   "id": "c9098f11",
   "metadata": {},
   "outputs": [
    {
     "name": "stdout",
     "output_type": "stream",
     "text": [
      "Enter the string : hi there\n",
      "The number of character in the string is : 7\n"
     ]
    }
   ],
   "source": [
    "string = input(\"Enter the string : \")\n",
    "count = 0\n",
    "for char in string:\n",
    "    if char != \" \":\n",
    "        count += 1\n",
    "print(f\"The number of character in the string is : {count}\")"
   ]
  },
  {
   "cell_type": "code",
   "execution_count": null,
   "id": "bafad7b3",
   "metadata": {},
   "outputs": [],
   "source": []
  }
 ],
 "metadata": {
  "kernelspec": {
   "display_name": "Python 3 (ipykernel)",
   "language": "python",
   "name": "python3"
  },
  "language_info": {
   "codemirror_mode": {
    "name": "ipython",
    "version": 3
   },
   "file_extension": ".py",
   "mimetype": "text/x-python",
   "name": "python",
   "nbconvert_exporter": "python",
   "pygments_lexer": "ipython3",
   "version": "3.9.7"
  }
 },
 "nbformat": 4,
 "nbformat_minor": 5
}
